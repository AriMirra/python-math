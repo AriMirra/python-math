{
 "cells": [
  {
   "cell_type": "markdown",
   "metadata": {},
   "source": [
    "# Trabajo Práctico 1 - Número Pi\n"
   ]
  },
  {
   "cell_type": "markdown",
   "metadata": {},
   "source": [
    "### Integrantes:\n",
    "   Ariel Mirra\n",
    "   <br>\n",
    "   Juan Gabriel Ricci"
   ]
  },
  {
   "cell_type": "markdown",
   "metadata": {},
   "source": [
    "### Resumen\n",
    "Asdasd"
   ]
  },
  {
   "cell_type": "markdown",
   "metadata": {},
   "source": [
    "### Introducción\n",
    "El trabajo práctico número 1 de análisis matemático 4 se basa en una comparación de algoritmos para calcular el número matemático π. A continuación se describen los algoritmos a analizar:\n",
    "\n",
    " - El número π propuesto por la librería _math_ de python\n"
   ]
  },
  {
   "cell_type": "markdown",
   "metadata": {},
   "source": [
    "### Ejercicio a\n",
    "Numero π propuesto por la libreria math de Python."
   ]
  },
  {
   "cell_type": "code",
   "execution_count": 13,
   "metadata": {},
   "outputs": [
    {
     "name": "stdout",
     "output_type": "stream",
     "text": [
      "3.141592653589793\n"
     ]
    }
   ],
   "source": [
    "import math\n",
    "\n",
    "print(math.pi)"
   ]
  },
  {
   "cell_type": "markdown",
   "metadata": {},
   "source": [
    "#### Descripción\n",
    "Este simple ejemplo muestra el valor retornado por la librería math de Python, la librería oficial y la más utilizada."
   ]
  },
  {
   "cell_type": "markdown",
   "metadata": {},
   "source": [
    "### Ejercicio b\n",
    "Algoritmo de Gauss-Legendre usando el tipo float de Python.\n"
   ]
  },
  {
   "cell_type": "markdown",
   "metadata": {},
   "source": [
    "#### Descripción\n",
    "El Algoritmo de Gauss-Legendre define variables a, b, t y p con un valor inicial, y define operaciones para realizarle a dichas variables en cada iteración. Por último, el número pi se calcula utilizando estas variables en una fórmula. Cada iteración le agrega el doble de precisión al número pi y el rendimiento del algoritmo es bastante bueno.\n",
    "\n",
    "Al utilizar el tipo float de Python, la precisión que se puede representar es limitada como se puede mostrar en el ejemplo."
   ]
  },
  {
   "cell_type": "code",
   "execution_count": 17,
   "metadata": {},
   "outputs": [
    {
     "name": "stdout",
     "output_type": "stream",
     "text": [
      "3.1405792505221686\n",
      "3.141592646213543\n",
      "3.141592653589794\n"
     ]
    }
   ],
   "source": [
    "import math\n",
    "\n",
    "def square(x):return x*x\n",
    "\n",
    "def gauss_legendre(amount):\n",
    "    a, b, t, p = 1, 1/math.sqrt(2), 1/4, 1\n",
    "    \n",
    "    for i in range(1,amount+1):\n",
    "        old_a = a\n",
    "        a = (a+b)/2\n",
    "        b = math.sqrt(old_a*b)\n",
    "        t -= p * square((old_a - a))\n",
    "        p = 2 * p\n",
    "        \n",
    "        pi = square((a+b)) / (4*t)\n",
    "        print(pi)\n",
    "\n",
    "        \n",
    "gauss_legendre(3)"
   ]
  },
  {
   "cell_type": "markdown",
   "metadata": {},
   "source": [
    "### Ejercicio c\n",
    "Idem punto b, usando el tipo Decimal de Python"
   ]
  },
  {
   "cell_type": "markdown",
   "metadata": {},
   "source": [
    "#### Descripción\n",
    "El Algoritmo de Gauss-Legendre define variables a, b, t y p con un valor inicial, y define operaciones para realizarle a dichas variables en cada iteración. Por último, el número pi se calcula utilizando estas variables en una fórmula. Cada iteración le agrega el doble de precisión al número pi y el rendimiento del algoritmo es bastante bueno.\n",
    "\n",
    "En este caso se implementó el algoritmo utilizando la librería Decimal de Python, que permite una mayor precisión e inlcuso definir la cantidad de decimales que se quiere. En el ejemplo a continuación se decidió utilizar 50 decimales de precisión."
   ]
  },
  {
   "cell_type": "code",
   "execution_count": 29,
   "metadata": {},
   "outputs": [
    {
     "name": "stdout",
     "output_type": "stream",
     "text": [
      "3.1405792505221682483113312689758233117734402375128\n",
      "3.1415926462135422821493444319826957743144372233456\n",
      "3.1415926535897932382795127748018639743812255048355\n"
     ]
    }
   ],
   "source": [
    "import math\n",
    "import decimal\n",
    "\n",
    "def square(x):return x*x\n",
    "\n",
    "def gauss_legendre(amount, precision):\n",
    "    D = decimal.Decimal\n",
    "    with decimal.localcontext() as ctx:\n",
    "        \n",
    "        ctx.prec = precision\n",
    "        a, b, t, p = 1, 1/D(2).sqrt(), 1/D(4), 1\n",
    "        for i in range(1,amount+1):\n",
    "            old_a = a\n",
    "            a = (a + b) / 2\n",
    "            b = (old_a*b).sqrt()\n",
    "            t -= p * square((old_a - a))\n",
    "            p = 2 * p\n",
    "            pi = square((a+b)) / (4*t)\n",
    "            print(pi)\n",
    "\n",
    "gauss_legendre(3, 50)"
   ]
  },
  {
   "cell_type": "markdown",
   "metadata": {},
   "source": [
    "### Ejercicio d\n",
    "Realizar un algoritmo de Espita (Spigot) que permita calcular los n primeros digitos de π"
   ]
  },
  {
   "cell_type": "markdown",
   "metadata": {},
   "source": [
    "#### Descripción\n",
    "El algoritmo de Spigot es utilizado para el calculo de digitos de π (Pi) o e (Euler). Puede calcular cantidad de digitos como se desee.\n",
    "El algoritmo parte de una serie descubierta por Euler (ecuacion a continuacion). Cuando la mostramos en la forma de Horner vemos que a diferencia de π (Pi), la serie se encuentra en base 2. Gracias a este principio se puede delucidar que hara el algoritmo."
   ]
  },
  {
   "cell_type": "code",
   "execution_count": 22,
   "metadata": {},
   "outputs": [
    {
     "data": {
      "text/latex": [
       "\\begin{eqnarray}\n",
       "      2\\sum_{0}^{\\infty } \\frac{2^n(n!)^2}{(2n+1)!}\n",
       "\\end{eqnarray}"
      ],
      "text/plain": [
       "<IPython.core.display.Latex object>"
      ]
     },
     "execution_count": 22,
     "metadata": {},
     "output_type": "execute_result"
    }
   ],
   "source": [
    "from IPython.display import Latex\n",
    "Latex(r\"\"\"\\begin{eqnarray}\n",
    "      2\\sum_{0}^{\\infty } \\frac{2^n(n!)^2}{(2n+1)!}\n",
    "\\end{eqnarray}\"\"\")"
   ]
  },
  {
   "cell_type": "code",
   "execution_count": 19,
   "metadata": {},
   "outputs": [
    {
     "name": "stdout",
     "output_type": "stream",
     "text": [
      "3.14\n",
      "3.1415926535\n",
      "31.41592653589793\n",
      "3141592653589793238462643383279\n"
     ]
    }
   ],
   "source": [
    "def spigot_pi(n):\n",
    "    k, a, b, a1, b1 = 2, 4, 1, 12, 4\n",
    "    while n>0:\n",
    "        p, q, k = k*k, 2*k+1, k+1\n",
    "        a, b, a1, b1 = a1, b1, p*a+q*a1, p*b+q*b1\n",
    "        d, d1 = a/b, a1/b1\n",
    "        while d == d1:\n",
    "            yield int(d)\n",
    "            n -= 1\n",
    "            a, a1 = 10*(a%b), 10*(a1%b1)\n",
    "            d, d1 = a/b, a1/b1\n",
    "\n",
    "print(str(eval(''.join(str(e) for e in list(spigot_pi(3)))) * (10**-2)))\n",
    "print(str(eval(''.join(str(e) for e in list(spigot_pi(10)))) * (10**-10)))\n",
    "print(str(eval(''.join(str(e) for e in list(spigot_pi(30)))) * (10**-29)))\n",
    "print(''.join(str(e) for e in list(spigot_pi(30))))"
   ]
  },
  {
   "cell_type": "markdown",
   "metadata": {},
   "source": [
    "### Analisis del código\n",
    "Para el análisis de los diferentes algoritmos e implementaciones, vamos a comparar los resultados obtenidos contra el valor otorgado por la librería math de Python:\n",
    "#### π = 3.141592653589793\n",
    "---\n",
    "\n",
    "#### Gauss Legendre\n",
    "El algoritmo de Gauss-Legendre se realizó en ambos casos con tres iteraciones, obteniendo los siguientes resultados:\n",
    "##### utilizando float:\n",
    "* 3.1405792505221686\n",
    "* 3.141592646213543\n",
    "* 3.141592653589794\n",
    "\n",
    "##### utilizando decimal:\n",
    "* 3.1405792505221682483113312689758233117734402375128\n",
    "* 3.1415926462135422821493444319826957743144372233456\n",
    "* 3.1415926535897932382795127748018639743812255048355\n",
    "\n",
    "Como se pudo analizar, al utilizar float, Python redondea en el dígito número 15 después de la coma, por lo que la máxima precisión que se puede obtener son 14 dígitos. Sin embargo, dicha precisión recién se logra en la tercera iteración del algoritmo.\n",
    "\n",
    "Utilizando Decimal, se pueden obtener más dígitos de precisión. Sin embargo, recién se logra mayor precisión que el número otorgado por la librería math en la tercera iteración. Decimal nos permite obtener mucha más precisión en caso de que se necesite."
   ]
  },
  {
   "cell_type": "code",
   "execution_count": null,
   "metadata": {},
   "outputs": [],
   "source": []
  }
 ],
 "metadata": {
  "kernelspec": {
   "display_name": "Python 3",
   "language": "python",
   "name": "python3"
  },
  "language_info": {
   "codemirror_mode": {
    "name": "ipython",
    "version": 3
   },
   "file_extension": ".py",
   "mimetype": "text/x-python",
   "name": "python",
   "nbconvert_exporter": "python",
   "pygments_lexer": "ipython3",
   "version": "3.7.4"
  }
 },
 "nbformat": 4,
 "nbformat_minor": 2
}
