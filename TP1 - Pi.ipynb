{
 "cells": [
  {
   "cell_type": "markdown",
   "metadata": {},
   "source": [
    "# Trabajo Práctico 1 - Número Pi\n"
   ]
  },
  {
   "cell_type": "markdown",
   "metadata": {},
   "source": [
    "### Integrantes:\n",
    "   Ariel Mirra\n",
    "   <br>\n",
    "   Juan Gabriel Ricci"
   ]
  },
  {
   "cell_type": "markdown",
   "metadata": {},
   "source": [
    "### Resumen\n",
    "Asdasd"
   ]
  },
  {
   "cell_type": "markdown",
   "metadata": {},
   "source": [
    "### Introducción\n",
    "El trabajo práctico número 1 de análisis matemático 4 se basa en una comparación de algoritmos para calcular el número matemático π. A continuación se describen los algoritmos a analizar:\n",
    "\n",
    " - El número π propuesto por la librería _math_ de python\n"
   ]
  },
  {
   "cell_type": "markdown",
   "metadata": {},
   "source": [
    "#### Ejercicio a\n",
    "Numero π propuesto por la libreria math de Python."
   ]
  },
  {
   "cell_type": "code",
   "execution_count": 13,
   "metadata": {},
   "outputs": [
    {
     "name": "stdout",
     "output_type": "stream",
     "text": [
      "3.141592653589793\n"
     ]
    }
   ],
   "source": [
    "import math\n",
    "\n",
    "print(math.pi)"
   ]
  },
  {
   "cell_type": "markdown",
   "metadata": {},
   "source": [
    "#### Ejercicio b\n",
    "Algoritmo de Gauss-Legendre usando el tipo float de Python.\n"
   ]
  },
  {
   "cell_type": "code",
   "execution_count": 17,
   "metadata": {},
   "outputs": [
    {
     "name": "stdout",
     "output_type": "stream",
     "text": [
      "3.1405792505221686\n",
      "3.141592646213543\n",
      "3.141592653589794\n"
     ]
    }
   ],
   "source": [
    "import math\n",
    "\n",
    "def square(x):return x*x\n",
    "\n",
    "def gauss_legendre(amount):\n",
    "    a, b, t, p = 1, 1/math.sqrt(2), 1/4, 1\n",
    "    \n",
    "    for i in range(1,amount+1):\n",
    "        old_a = a\n",
    "        a = (a+b)/2\n",
    "        b = math.sqrt(old_a*b)\n",
    "        t -= p * square((old_a - a))\n",
    "        p = 2 * p\n",
    "        \n",
    "        pi = square((a+b)) / (4*t)\n",
    "        print(pi)\n",
    "\n",
    "        \n",
    "gauss_legendre(3)"
   ]
  },
  {
   "cell_type": "markdown",
   "metadata": {},
   "source": [
    "#### Ejercicio a\n",
    "Idem punto b, usando el tipo Decimal de Python"
   ]
  },
  {
   "cell_type": "code",
   "execution_count": 29,
   "metadata": {},
   "outputs": [
    {
     "name": "stdout",
     "output_type": "stream",
     "text": [
      "3.1405792505221682483113312689758233117734402375128\n",
      "3.1415926462135422821493444319826957743144372233456\n",
      "3.1415926535897932382795127748018639743812255048355\n"
     ]
    }
   ],
   "source": [
    "import math\n",
    "import decimal\n",
    "\n",
    "def square(x):return x*x\n",
    "\n",
    "def gauss_legendre(amount, precision):\n",
    "    D = decimal.Decimal\n",
    "    with decimal.localcontext() as ctx:\n",
    "        \n",
    "        ctx.prec = precision\n",
    "        a, b, t, p = 1, 1/D(2).sqrt(), 1/D(4), 1\n",
    "        for i in range(1,amount+1):\n",
    "            old_a = a\n",
    "            a = (a + b) / 2\n",
    "            b = (old_a*b).sqrt()\n",
    "            t -= p * square((old_a - a))\n",
    "            p = 2 * p\n",
    "            pi = square((a+b)) / (4*t)\n",
    "            print(pi)\n",
    "\n",
    "gauss_legendre(3, 50)"
   ]
  },
  {
   "cell_type": "markdown",
   "metadata": {},
   "source": [
    "#### Ejercicio a\n",
    "Realizar un algoritmo de Espita (Spigot) que permita calcular los n primeros digitos de π"
   ]
  },
  {
   "cell_type": "code",
   "execution_count": null,
   "metadata": {},
   "outputs": [],
   "source": []
  }
 ],
 "metadata": {
  "kernelspec": {
   "display_name": "Python 3",
   "language": "python",
   "name": "python3"
  },
  "language_info": {
   "codemirror_mode": {
    "name": "ipython",
    "version": 3
   },
   "file_extension": ".py",
   "mimetype": "text/x-python",
   "name": "python",
   "nbconvert_exporter": "python",
   "pygments_lexer": "ipython3",
   "version": "3.7.4"
  }
 },
 "nbformat": 4,
 "nbformat_minor": 2
}
