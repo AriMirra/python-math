{
 "cells": [
  {
   "cell_type": "markdown",
   "metadata": {},
   "source": [
    "### 4th Order Runge Kutta Method\n",
    "$ y_{i+1}=y_i + \\frac{1}{6} \\cdot (k_1 + 2 \\cdot k_2 + 2 \\cdot k_3 + k_4) $\n",
    "\n",
    "---\n",
    "\n",
    "$ k_1 = f(x_i                      ,     y_i                                ) $\n",
    "\n",
    "$ k_2 = f(x_i + \\frac{1}{2} h,     y_i + \\frac{1}{2} k_1 h) $\n",
    "\n",
    "$ k_3 = f(x_i + \\frac{1}{2} h,     y_i + \\frac{1}{2} k_2 h) $\n",
    "\n",
    "$ k_4 = f(x_i +                   h,     y_i + k_3             h) $"
   ]
  },
  {
   "cell_type": "markdown",
   "metadata": {},
   "source": [
    "### Development\n",
    "In order to begin this method we need an $ \\frac{dy}{dx} $ function, an initial $ x_0 $ and $ y_0 $ value and a $ h $ delta interval. \n",
    "\n",
    "$ \\frac{dy}{dx} = f(x, y) $ and $ y(x_0) = y_0 $"
   ]
  },
  {
   "cell_type": "code",
   "execution_count": 69,
   "metadata": {},
   "outputs": [],
   "source": [
    "\n",
    "# imports\n",
    "\n",
    "import math\n",
    "\n",
    "\n",
    "# runge-kutta functions\n",
    "\n",
    "# dx/dy = k*y*(M-y)\n",
    "# y(t) = M / (1 + e^(-k*M*t))\n",
    "\n",
    "# runge kutta 4th order method\n",
    "# y(i+1) = y(i) + 1/6 (k1+2k2+2k3+k4) h\n",
    "# k1     = f(xi,         yi           )\n",
    "# k2     = f(xi + 1/2 h, yi + 1/2 k1 h)\n",
    "# k3     = f(x1 + 1/2 h, yi + 1/2 k2 h)\n",
    "# k4     = f(xi + h,     yi + k3 h    )\n",
    "\n",
    "y         = lambda k, M, t : (M / (1 + math.exp(-k * M * t)))\n",
    "y_deriv  = lambda k, M, t : k * y(k, M, t) * (M - y(k, M, t))  # calculates y from existing y(k, M, t)\n",
    "y_deriv_2 = lambda k, M, t, yi: k * yi * (M - yi)  # uses calculated yi, which is given\n",
    "\n",
    "y_next    = lambda k, M, t, yi, h: y0 + 1/6*(k1(k, M, t, yi) + 2*k2(k, M, t, yi) \n",
    "                                             + 2*k3(k, M, t, yi) + k4(k, M, t, yi)) * h\n",
    "k1        = lambda k, M, t, yi   : y_deriv_2(k, M, t            , yi                              )\n",
    "k2        = lambda k, M, t, yi   : y_deriv_2(k, M, t + (1/2 * h), yi + (1/2 * k1(k, M, t, yi) * h))\n",
    "k3        = lambda k, M, t, yi   : y_deriv_2(k, M, t + (1/2 * h), yi + (1/2 * k2(k, M, t, yi) * h))\n",
    "k4        = lambda k, M, t, yi   : y_deriv_2(k, M, t +        h , yi + (      k3(k, M, t, yi) * h))\n",
    "\n",
    "\n",
    "# data read\n",
    "\n",
    "# Coeficiente K: \n",
    "coef_k = []\n",
    "f = open(\"coeficientes_canal.csv\", \"r\")\n",
    "f.readline()  # first line is not desired, bypassing it.\n",
    "for row in f:\n",
    "    coef_k.append(row.split(\",\"))\n",
    "f.close()\n",
    "            \n",
    "# Televidentes\n",
    "tv_viewers_channels = []\n",
    "f = open(\"televidentes_canal_horario.csv\", \"r\")\n",
    "for row in f:\n",
    "    tv_viewers_channels.append(row.split(\",\"))\n",
    "f.close()\n",
    "\n",
    "\n",
    "# calculation sunsunseven\n",
    "for i in range(len(coef_k)):\n",
    "    k = float(coef_k[i][0])\n",
    "    f = open(\"channel_\"+str(i)+\".csv\", \"w\")\n",
    "    for M in tv_viewers_channels[i]:\n",
    "        y_calculated = []\n",
    "        y0 = y(k, float(M), 1)\n",
    "        y_calculated.append(y0)\n",
    "        line_to_write = \"\" + str(y0) + \",\"  # t=0\n",
    "        for j in range(1, 10):\n",
    "            yi = y_next(k, float(M), y_calculated[j-1], j, 1)\n",
    "            y_calculated.append(yi)\n",
    "            line_to_write += str(yi)\n",
    "            if j is not 9:\n",
    "                line_to_write += \",\"\n",
    "        f.write(line_to_write)\n",
    "    f.close()\n",
    "\n",
    "\n",
    "# Canal cobra 1$ x persona.\n",
    "# 10,000,000$ para invertir en publicidad."
   ]
  },
  {
   "cell_type": "markdown",
   "metadata": {},
   "source": [
    "# TP 3: MKT Publicidades\n",
    "\n",
    "#### Integrantes\n",
    "- Mirra, Ariel Marcelo.\n",
    "- Ricci, Juan Gabriel.\n",
    "\n",
    "#### Docentes\n",
    "- Olmedo, Agustin.\n",
    "- Gioia, Alicia.\n",
    "\n",
    "### Resumen\n",
    "TODO\n",
    "\n",
    "### Introduccion\n",
    "Este trabajo consiste en el uso de las herramientas aprendidas en clase (Runge-Kutta, matplotlib, etc.) para la resolucion de un problema real: medir el impacto de una publicidad utilizando la ecuación de la curva logística."
   ]
  },
  {
   "cell_type": "markdown",
   "metadata": {},
   "source": [
    "### 1) Implementar la ecuación de la curva logística\n",
    "Usando la libreria 'csv' se obtendra cada dato y se guardara en una lista."
   ]
  },
  {
   "cell_type": "code",
   "execution_count": null,
   "metadata": {},
   "outputs": [],
   "source": []
  },
  {
   "cell_type": "markdown",
   "metadata": {},
   "source": [
    "### 2) Implementar el algoritmo de Runge-Kutta de orden 4\n",
    "TODO"
   ]
  },
  {
   "cell_type": "markdown",
   "metadata": {},
   "source": [
    "### 3) Calcular utilizando el algoritmo de Runge-Kutta el impacto de la publicidad en cada canal y horario en 10 instantes de tiempo. Generar archivos csv para cada instante con el impacto de la publicidad para canal y horario.\n",
    "TODO"
   ]
  },
  {
   "cell_type": "code",
   "execution_count": 24,
   "metadata": {},
   "outputs": [],
   "source": []
  },
  {
   "cell_type": "markdown",
   "metadata": {},
   "source": [
    "### 4) Hacer para cada instante de tiempo un mapa de calor con el impacto de la publicidad de cada canal y horario.\n",
    "TODO"
   ]
  },
  {
   "cell_type": "code",
   "execution_count": 25,
   "metadata": {},
   "outputs": [],
   "source": []
  },
  {
   "cell_type": "markdown",
   "metadata": {},
   "source": [
    "### 5) Comparaciones entre los métodos de los puntos (1) con Runge-Kutta de orden 4 y (2).\n",
    "TODO"
   ]
  },
  {
   "cell_type": "code",
   "execution_count": 26,
   "metadata": {},
   "outputs": [],
   "source": []
  },
  {
   "cell_type": "markdown",
   "metadata": {},
   "source": [
    "### 6) Analizar los datos obtenidos y sugerir una posible distribución del dinero disponible para que el impacto de la publicidad sea máximo.\n",
    "TODO"
   ]
  },
  {
   "cell_type": "code",
   "execution_count": null,
   "metadata": {},
   "outputs": [],
   "source": []
  },
  {
   "cell_type": "markdown",
   "metadata": {},
   "source": [
    "## Conclusion\n",
    "TODO"
   ]
  }
 ],
 "metadata": {
  "kernelspec": {
   "display_name": "Python 3",
   "language": "python",
   "name": "python3"
  },
  "language_info": {
   "codemirror_mode": {
    "name": "ipython",
    "version": 3
   },
   "file_extension": ".py",
   "mimetype": "text/x-python",
   "name": "python",
   "nbconvert_exporter": "python",
   "pygments_lexer": "ipython3",
   "version": "3.7.4"
  }
 },
 "nbformat": 4,
 "nbformat_minor": 2
}
