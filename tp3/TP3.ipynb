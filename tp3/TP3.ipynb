{
 "cells": [
  {
   "cell_type": "markdown",
   "metadata": {},
   "source": [
    "# TP 3: MKT Publicidades\n",
    "\n",
    "#### Integrantes\n",
    "- Mirra, Ariel Marcelo.\n",
    "- Ricci, Juan Gabriel.\n",
    "\n",
    "#### Docentes\n",
    "- Olmedo, Agustin.\n",
    "- Gioia, Alicia.\n",
    "\n",
    "### Resumen\n",
    "TODO\n",
    "\n",
    "### Introduccion\n",
    "Este trabajo consiste en el uso de las herramientas aprendidas en clase (Runge-Kutta, matplotlib, etc.) para la resolucion de un problema real: medir el impacto de una publicidad utilizando la ecuación de la curva logística."
   ]
  },
  {
   "cell_type": "markdown",
   "metadata": {},
   "source": [
    "### 1) Implementar la ecuación de la curva logística\n",
    "Usando la libreria 'csv' se obtendra cada dato y se guardara en una lista."
   ]
  },
  {
   "cell_type": "code",
   "execution_count": 15,
   "metadata": {},
   "outputs": [],
   "source": []
  },
  {
   "cell_type": "markdown",
   "metadata": {},
   "source": [
    "### 2) Implementar el algoritmo de Runge-Kutta de orden 4\n",
    "TODO"
   ]
  },
  {
   "cell_type": "markdown",
   "metadata": {},
   "source": [
    "### 3) Calcular utilizando el algoritmo de Runge-Kutta el impacto de la publicidad en cada canal y horario en 10 instantes de tiempo. Generar archivos csv para cada instante con el impacto de la publicidad para canal y horario.\n",
    "TODO"
   ]
  },
  {
   "cell_type": "code",
   "execution_count": 24,
   "metadata": {},
   "outputs": [],
   "source": []
  },
  {
   "cell_type": "markdown",
   "metadata": {},
   "source": [
    "### 4) Hacer para cada instante de tiempo un mapa de calor con el impacto de la publicidad de cada canal y horario.\n",
    "TODO"
   ]
  },
  {
   "cell_type": "code",
   "execution_count": 25,
   "metadata": {},
   "outputs": [],
   "source": []
  },
  {
   "cell_type": "markdown",
   "metadata": {},
   "source": [
    "### 5) Comparaciones entre los métodos de los puntos (1) con Runge-Kutta de orden 4 y (2).\n",
    "TODO"
   ]
  },
  {
   "cell_type": "code",
   "execution_count": 26,
   "metadata": {},
   "outputs": [],
   "source": []
  },
  {
   "cell_type": "markdown",
   "metadata": {},
   "source": [
    "### 6) Analizar los datos obtenidos y sugerir una posible distribución del dinero disponible para que el impacto de la publicidad sea máximo.\n",
    "TODO"
   ]
  },
  {
   "cell_type": "code",
   "execution_count": null,
   "metadata": {},
   "outputs": [],
   "source": []
  },
  {
   "cell_type": "markdown",
   "metadata": {},
   "source": [
    "## Conclusion\n",
    "TODO"
   ]
  }
 ],
 "metadata": {
  "kernelspec": {
   "display_name": "Python 3",
   "language": "python",
   "name": "python3"
  },
  "language_info": {
   "codemirror_mode": {
    "name": "ipython",
    "version": 3
   },
   "file_extension": ".py",
   "mimetype": "text/x-python",
   "name": "python",
   "nbconvert_exporter": "python",
   "pygments_lexer": "ipython3",
   "version": "3.7.4"
  }
 },
 "nbformat": 4,
 "nbformat_minor": 2
}
