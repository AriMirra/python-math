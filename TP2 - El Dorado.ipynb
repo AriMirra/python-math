{
 "cells": [
  {
   "cell_type": "markdown",
   "metadata": {},
   "source": [
    "# TP 2: El Dorado\n",
    "\n",
    "#### Integrantes\n",
    "- Mirra, Ariel Marcelo.\n",
    "- Ricci, Juan Gabriel.\n",
    "\n",
    "#### Docentes\n",
    "- Olmedo, Agustin.\n",
    "- Gioia, Alicia.\n",
    "\n",
    "### Introduccion\n",
    "Una buena introducccion\n",
    "\n",
    "### Cositas"
   ]
  }
 ],
 "metadata": {
  "kernelspec": {
   "display_name": "Python 3",
   "language": "python",
   "name": "python3"
  },
  "language_info": {
   "codemirror_mode": {
    "name": "ipython",
    "version": 3
   },
   "file_extension": ".py",
   "mimetype": "text/x-python",
   "name": "python",
   "nbconvert_exporter": "python",
   "pygments_lexer": "ipython3",
   "version": "3.7.4"
  }
 },
 "nbformat": 4,
 "nbformat_minor": 2
}
